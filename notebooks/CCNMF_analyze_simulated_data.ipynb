{
 "cells": [
  {
   "cell_type": "markdown",
   "metadata": {
    "collapsed": true
   },
   "source": [
    "# CCNMF analysis of simulated paired scRNA and scDNA data"
   ]
  },
  {
   "cell_type": "code",
   "execution_count": 2,
   "metadata": {
    "collapsed": true
   },
   "outputs": [],
   "source": [
    "# Load necessary packages\n",
    "library(CCNMF)\n",
    "library(Seurat)\n",
    "library(NMF)\n",
    "library(pheatmap)\n",
    "library(ggplot2)\n",
    "library(cowplot)\n",
    "library(ggplotify)\n",
    "library(Rtsne)"
   ]
  },
  {
   "cell_type": "code",
   "execution_count": 3,
   "metadata": {
    "collapsed": true
   },
   "outputs": [],
   "source": [
    "# Load Data\n",
    "CNVmatrix <- as.matrix(read.csv('~/CCNMF/testdata/DNA.csv'))\n",
    "RNAmatrix <- as.matrix(read.csv('~/CCNMF/testdata/RNA.csv'))"
   ]
  },
  {
   "cell_type": "code",
   "execution_count": 4,
   "metadata": {},
   "outputs": [
    {
     "name": "stderr",
     "output_type": "stream",
     "text": [
      "Centering and scaling data matrix\n",
      "\n",
      "PC_ 1 \n",
      "Positive:  gene247, gene1221, gene1256, gene729, gene346, gene681, gene1894, gene1987, gene738, gene861 \n",
      "\t   gene1411, gene1557, gene1113, gene110, gene776, gene1858, gene911, gene505, gene467, gene181 \n",
      "\t   gene205, gene711, gene273, gene933, gene477, gene593, gene835, gene1958, gene853, gene1801 \n",
      "Negative:  gene1218, gene1064, gene914, gene218, gene955, gene1594, gene1111, gene540, gene757, gene1744 \n",
      "\t   gene169, gene576, gene935, gene732, gene626, gene1712, gene336, gene1580, gene580, gene1947 \n",
      "\t   gene768, gene804, gene1166, gene837, gene219, gene1920, gene1585, gene115, gene1873, gene162 \n",
      "PC_ 2 \n",
      "Positive:  gene246, gene260, gene1958, gene1801, gene470, gene737, gene776, gene537, gene205, gene911 \n",
      "\t   gene754, gene819, gene711, gene1692, gene1471, gene681, gene685, gene1225, gene1337, gene1564 \n",
      "\t   gene1640, gene1734, gene1639, gene1128, gene1886, gene1408, gene1545, gene589, gene1951, gene945 \n",
      "Negative:  gene247, gene1256, gene1221, gene1987, gene729, gene1894, gene738, gene861, gene1411, gene110 \n",
      "\t   gene346, gene1557, gene467, gene1113, gene1858, gene505, gene181, gene835, gene477, gene273 \n",
      "\t   gene933, gene740, gene1786, gene853, gene552, gene1552, gene593, gene175, gene400, gene673 \n",
      "PC_ 3 \n",
      "Positive:  gene780, gene1735, gene838, gene1290, gene482, gene316, gene659, gene1500, gene1526, gene94 \n",
      "\t   gene1011, gene1663, gene1077, gene609, gene16, gene603, gene1383, gene217, gene1004, gene977 \n",
      "\t   gene529, gene259, gene1015, gene1549, gene1, gene1037, gene927, gene1076, gene1503, gene548 \n",
      "Negative:  gene737, gene1594, gene914, gene681, gene819, gene260, gene470, gene711, gene1760, gene205 \n",
      "\t   gene1964, gene911, gene246, gene776, gene1848, gene1337, gene169, gene537, gene1801, gene89 \n",
      "\t   gene1886, gene1408, gene1958, gene1483, gene1225, gene1639, gene1471, gene1692, gene941, gene786 \n",
      "PC_ 4 \n",
      "Positive:  gene236, gene1450, gene1856, gene790, gene863, gene982, gene912, gene1812, gene150, gene682 \n",
      "\t   gene1885, gene975, gene1047, gene1227, gene1391, gene1074, gene1013, gene1759, gene1206, gene759 \n",
      "\t   gene599, gene644, gene319, gene1868, gene1068, gene137, gene809, gene840, gene1918, gene1808 \n",
      "Negative:  gene1134, gene1815, gene1303, gene1109, gene1518, gene466, gene594, gene190, gene1327, gene185 \n",
      "\t   gene1611, gene630, gene1258, gene10, gene42, gene769, gene1488, gene1991, gene1768, gene130 \n",
      "\t   gene1213, gene1336, gene1329, gene1749, gene1460, gene704, gene507, gene844, gene1267, gene1761 \n",
      "PC_ 5 \n",
      "Positive:  gene566, gene88, gene1138, gene493, gene1290, gene430, gene1412, gene224, gene1635, gene1775 \n",
      "\t   gene1930, gene1901, gene390, gene121, gene261, gene283, gene1095, gene1164, gene375, gene418 \n",
      "\t   gene361, gene958, gene1986, gene701, gene128, gene287, gene1184, gene944, gene319, gene1383 \n",
      "Negative:  gene777, gene1245, gene1127, gene1522, gene144, gene565, gene1149, gene562, gene1550, gene28 \n",
      "\t   gene445, gene643, gene1815, gene1874, gene504, gene1992, gene1322, gene446, gene1428, gene1506 \n",
      "\t   gene1528, gene1481, gene342, gene770, gene818, gene854, gene243, gene119, gene910, gene1940 \n",
      "\n",
      "Computing nearest neighbor graph\n",
      "\n",
      "Computing SNN\n",
      "\n"
     ]
    },
    {
     "name": "stdout",
     "output_type": "stream",
     "text": [
      "Modularity Optimizer version 1.3.0 by Ludo Waltman and Nees Jan van Eck\n",
      "\n",
      "Number of nodes: 1000\n",
      "Number of edges: 37717\n",
      "\n",
      "Running Louvain algorithm...\n",
      "Maximum modularity in 10 random starts: 0.9275\n",
      "Number of communities: 3\n",
      "Elapsed time: 0 seconds\n"
     ]
    }
   ],
   "source": [
    "# Preprocessing scRNA-seq data by Seurat\n",
    "rownames(RNAmatrix) <- paste0('gene', 1:dim(RNAmatrix)[1])\n",
    "colnames(RNAmatrix) <- paste0('cell', 1:dim(RNAmatrix)[2])\n",
    "RNAobject <- run_Seurat_RNA(RNAmatrix)"
   ]
  },
  {
   "cell_type": "code",
   "execution_count": 5,
   "metadata": {
    "collapsed": true
   },
   "outputs": [],
   "source": [
    "# Then we use a sigmoid fucnction transform the negative elements in scaled RNA matrix to non-negative \n",
    "# since the CCNMF needs non-negative matrices as input.\n",
    "sigmoid <- function(x){1/(1+ exp(-x))}\n",
    "RNAmatrix1 <- RNAobject@assays$RNA@scale.data[RNAobject@assays$RNA@meta.features$vst.variable, ]\n",
    "replaceindex <- which(RNAmatrix1 < 0 )\n",
    "RNAmatrix2 <- RNAmatrix1\n",
    "RNAmatrix2[replaceindex] <- sigmoid(RNAmatrix1)[replaceindex]"
   ]
  },
  {
   "cell_type": "code",
   "execution_count": 6,
   "metadata": {
    "collapsed": true
   },
   "outputs": [],
   "source": [
    "# Preprocessing scDNA-seq data \n",
    "rownames(CNVmatrix) <- paste0('gene', 1:dim(CNVmatrix)[1])\n",
    "colnames(CNVmatrix) <- paste0('cell', 1:dim(CNVmatrix)[2])\n",
    "CNVmatrix1 <- CNVmatrix[RNAobject@assays$RNA@meta.features$vst.variable, ]"
   ]
  },
  {
   "cell_type": "code",
   "execution_count": 7,
   "metadata": {},
   "outputs": [
    {
     "data": {
      "text/html": [
       "<style>\n",
       ".list-inline {list-style: none; margin:0; padding: 0}\n",
       ".list-inline>li {display: inline-block}\n",
       ".list-inline>li:not(:last-child)::after {content: \"\\00b7\"; padding: 0 .5ex}\n",
       "</style>\n",
       "<ol class=list-inline><li>2000</li><li>2000</li></ol>\n"
      ],
      "text/latex": [
       "\\begin{enumerate*}\n",
       "\\item 2000\n",
       "\\item 2000\n",
       "\\end{enumerate*}\n"
      ],
      "text/markdown": [
       "1. 2000\n",
       "2. 2000\n",
       "\n",
       "\n"
      ],
      "text/plain": [
       "[1] 2000 2000"
      ]
     },
     "metadata": {},
     "output_type": "display_data"
    }
   ],
   "source": [
    "# Set the coupledMatrix as identify matrix \n",
    "# CoupledMatrix <- as(as.matrix(diag(dim(RNAmatrix1)[1]), 'dgCMatrix')\n",
    "CoupledMatrix <- as.matrix(diag(dim(RNAmatrix1)[1]))"
   ]
  },
  {
   "cell_type": "code",
   "execution_count": 9,
   "metadata": {},
   "outputs": [
    {
     "name": "stdout",
     "output_type": "stream",
     "text": [
      "[1] \"Initializing NMF for CNV matrirx...\"\n",
      "[1] \"Initializing NMF for scRNA matrirx...\"\n",
      "[1] \"Initializing the parameters lambda1, lambda2 and mu...\"\n",
      "[1] \"Start Coupled NMF\"\n",
      "[1] \"Iterating coupledNMF...\"\n",
      "[1] \"eq1 157817\"\n",
      "[1] \"eq2 501441\"\n",
      "[1] \"eq3 8496\"\n",
      "[1] \"eq4 22315\"\n",
      "[1] \"eq5 659257\"\n",
      "[1] \"Run time:78.598seconds\"\n"
     ]
    },
    {
     "data": {
      "text/html": [
       "7"
      ],
      "text/latex": [
       "7"
      ],
      "text/markdown": [
       "7"
      ],
      "text/plain": [
       "[1] 7"
      ]
     },
     "metadata": {},
     "output_type": "display_data"
    }
   ],
   "source": [
    "# Run CCNMF\n",
    "ResultsCCNMF <- run_CCNMF(ncluster = 3, CNVmatrix1, RNAmatrix2, CoupledMatrix, lambda1=1, lambda2=1, mu=1)\n",
    "length(ResultsCCNMF)"
   ]
  },
  {
   "cell_type": "code",
   "execution_count": 10,
   "metadata": {},
   "outputs": [
    {
     "data": {
      "text/html": [
       "3"
      ],
      "text/latex": [
       "3"
      ],
      "text/markdown": [
       "3"
      ],
      "text/plain": [
       "[1] 3"
      ]
     },
     "metadata": {},
     "output_type": "display_data"
    }
   ],
   "source": [
    "# Find the differential genes between clusters based on scRNA data\n",
    "DElist <- DiffExp(RNAmatrix2, ResultsCCNMF[[6]])"
   ]
  },
  {
   "cell_type": "code",
   "execution_count": null,
   "metadata": {
    "collapsed": true
   },
   "outputs": [],
   "source": [
    "# Output the heatmap and tsne figures of CCNMF, the main figure's pdf can be saved in current path.\n",
    "PlotMainResult(CNVmatrix1, RNAmatrix2, ResultsCCNMF, DElist)"
   ]
  },
  {
   "cell_type": "markdown",
   "metadata": {
    "collapsed": true
   },
   "source": [
    "![](simulation_figure.png)"
   ]
  },
  {
   "cell_type": "markdown",
   "metadata": {
    "collapsed": true
   },
   "source": [
    "The result figure can be saved in the current path."
   ]
  }
 ],
 "metadata": {
  "kernelspec": {
   "display_name": "R",
   "language": "R",
   "name": "ir"
  },
  "language_info": {
   "codemirror_mode": "r",
   "file_extension": ".r",
   "mimetype": "text/x-r-source",
   "name": "R",
   "pygments_lexer": "r",
   "version": "3.6.1"
  }
 },
 "nbformat": 4,
 "nbformat_minor": 2
}
