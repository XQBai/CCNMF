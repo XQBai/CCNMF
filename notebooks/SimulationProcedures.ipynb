{
 "cells": [
  {
   "cell_type": "markdown",
   "metadata": {},
   "source": [
    "## Simulation Procedures"
   ]
  },
  {
   "cell_type": "markdown",
   "metadata": {},
   "source": [
    "## The progress of simulation\n",
    "\n",
    "We simulate paired scDNA and RNA data following the procedure as illustrated in supplement (Figure S1). The simulation principle is to coherently generate scRNA and scDNA data from the same ground truth genetic copy number and clonality while also allowing adding sequencing platform specific noises."
   ]
  },
  {
   "cell_type": "code",
   "execution_count": 1,
   "metadata": {
    "collapsed": true
   },
   "outputs": [],
   "source": [
    "import pandas as pd\n",
    "import sys\n",
    "sys.path.append('~/CCNMF/SimulationCode/')"
   ]
  },
  {
   "cell_type": "code",
   "execution_count": 2,
   "metadata": {
    "collapsed": true
   },
   "outputs": [],
   "source": [
    "# The Simulation.py (module) is restored in '~/simulationCode'\n",
    "import Simulation as st"
   ]
  },
  {
   "cell_type": "markdown",
   "metadata": {},
   "source": [
    "Specifically, we estimated the transition probabilty matrix as follows: we downloaded the [TCGA](https://www.cancer.gov/about-nci/organization/ccg/research/structural-genomics/tcga) genetic copy number difference GCN data from [cBioPortal](https://www.cbioportal.org/) with 171 triple-negative breast cancer basal samples on paired bulk RNA-seq and DNA-seq data. The below Probmatrix's cloumns are copy number from 1 to 5 as well as the rows.  "
   ]
  },
  {
   "cell_type": "code",
   "execution_count": 3,
   "metadata": {
    "collapsed": true
   },
   "outputs": [],
   "source": [
    "ProbMatrix = [[0.42, 0.5, 0.08, 0, 0], \n",
    "              [0.02, 0.52, 0.46, 0, 0],\n",
    "              [0, 0, 0.5, 0.5, 0], \n",
    "              [0, 0, 0.01, 0.4, 0.59], \n",
    "              [0, 0, 0, 0.01, 0.99]]"
   ]
  },
  {
   "cell_type": "markdown",
   "metadata": {},
   "source": [
    " The various configurations for simulated data. The details of each parameter are shown as the annotation.   "
   ]
  },
  {
   "cell_type": "code",
   "execution_count": 4,
   "metadata": {
    "collapsed": true
   },
   "outputs": [],
   "source": [
    "Paramaters = {'Ncluster' : [3], # The number of clusters, 2 or 3\n",
    "              'Topology' : ['linear'], # The clonal structure of simulated data: 'linear' or 'bifurcate'\n",
    "              'C1Percent' : [0.5, 0.5], # The each cluster percentage if the data has 2 clusters\n",
    "              'C2Percent':[0.2, 0.4, 0.4], # The each cluster percentage if the data has 3 clusters\n",
    "              'Percentage' : [0.1, 0.2, 0.3, 0.4, 0.5], # The simulated copy number fraction in each cluster on various cases\n",
    "              'Outlier': [0.5], # The simulated outlier percentages in each cluster on various cases \n",
    "              'Dropout': [0.5]} # The simulated dropout percentages in each cluster on various cases"
   ]
  },
  {
   "cell_type": "markdown",
   "metadata": {},
   "source": [
    "Simulate the Genetic Copy file for the pecific clone structure, nGenes is the number of genes, nCells is the number \n",
    "of cells"
   ]
  },
  {
   "cell_type": "code",
   "execution_count": 5,
   "metadata": {
    "collapsed": true
   },
   "outputs": [],
   "source": [
    "Configure = st.GeneticCN(Paramaters, nGenes = 200, nCells = 100)"
   ]
  },
  {
   "cell_type": "markdown",
   "metadata": {},
   "source": [
    "We simulate the scDNA data based on their associated clonal copy number profiles and transition probability matrix."
   ]
  },
  {
   "cell_type": "code",
   "execution_count": 6,
   "metadata": {
    "collapsed": true
   },
   "outputs": [],
   "source": [
    "DNAmatrix = st.Simulate_DNA(ProbMatrix, Configure)"
   ]
  },
  {
   "cell_type": "markdown",
   "metadata": {},
   "source": [
    "Simulate the scRNA data based on their associated clonal copy number profiles. "
   ]
  },
  {
   "cell_type": "code",
   "execution_count": 7,
   "metadata": {
    "collapsed": true
   },
   "outputs": [],
   "source": [
    "RNAmatrix = st.Simulate_RNA(Configure)"
   ]
  },
  {
   "cell_type": "markdown",
   "metadata": {},
   "source": [
    "The above procedures are how to simulate the various copy number fractions in each cluster for linear structure with 3 \n",
    "clusters when the default of outlier percentange and dropout percentange are 0.5. \n",
    "Meanwhile, if we need to simulate other configuration such as bifurcate structure with 3 clusters for various dropout percentages.\n",
    "it is best to give the default of \"Percentage\" and \"Dropout\". Such as:\n",
    "Paramaters = {'Ncluster' : [3], 'Topology' : ['bifurcate'], 'C1Percent' : [0.5, 0.5], 'C2Percent':[0.2, 0.4, 0.4],      'Percentage' : [0.5], 'Outlier': [0.5], 'Dropout': [0.1, 0.2, 0.3, 0.4, 0.5]} "
   ]
  },
  {
   "cell_type": "markdown",
   "metadata": {},
   "source": [
    "Finally, save each pair datasets as '.csv' file. "
   ]
  },
  {
   "cell_type": "code",
   "execution_count": 8,
   "metadata": {
    "collapsed": true
   },
   "outputs": [],
   "source": [
    "DNA1 = DNAmatrix[1]\n",
    "RNA1 = RNAmatrix[1]\n",
    "DNA1 = pd.DataFrame(DNA1)\n",
    "RNA1 = pd.DataFrame(RNA1)\n",
    "DNA1.to_csv('DNA1.csv', index = 0)\n",
    "RNA1.to_csv('RNA1.csv', index = 0)"
   ]
  }
 ],
 "metadata": {
  "kernelspec": {
   "display_name": "python3",
   "language": "python",
   "name": "python3"
  },
  "language_info": {
   "codemirror_mode": {
    "name": "ipython",
    "version": 2
   },
   "file_extension": ".py",
   "mimetype": "text/x-python",
   "name": "python",
   "nbconvert_exporter": "python",
   "pygments_lexer": "ipython2",
   "version": "2.7.17"
  }
 },
 "nbformat": 4,
 "nbformat_minor": 2
}
