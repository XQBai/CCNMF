{
 "cells": [
  {
   "cell_type": "markdown",
   "metadata": {},
   "source": [
    "# CCNMF analyze the real data"
   ]
  },
  {
   "cell_type": "code",
   "execution_count": 2,
   "metadata": {},
   "outputs": [],
   "source": [
    "library(NMF)\n",
    "library(dplyr)\n",
    "library(tidyr)\n",
    "\n",
    "library(Matrix)\n",
    "library(devtools)\n",
    "library(TxDb.Hsapiens.UCSC.hg19.knownGene)\n",
    "library(TxDb.Hsapiens.UCSC.hg38.knownGene)\n",
    "library(org.Hs.eg.db)\n",
    "\n",
    "library(pheatmap)\n",
    "library(ggplot2)\n",
    "library(Seurat)\n",
    "library(stringr)\n",
    "library(Rtsne)\n",
    "library(uwot)\n",
    "library(mclust)\n",
    "library(biomaRt)\n",
    "library(cowplot)\n",
    "library(ggplotify)\n",
    "library(RColorBrewer)\n",
    "library(minerva)"
   ]
  },
  {
   "cell_type": "markdown",
   "metadata": {},
   "source": [
    "Download the [ovarian cancer cell lines](https://zenodo.org/record/2363826#.XjkYohNKhE4) from [clonealign: statistical integration of independent single-cell RNA and DNA sequencing data from human cancers.](https://genomebiology.biomedcentral.com/articles/10.1186/s13059-019-1645-z) "
   ]
  },
  {
   "cell_type": "markdown",
   "metadata": {},
   "source": [
    "Input the single-cell RNA data and copy number data"
   ]
  },
  {
   "cell_type": "code",
   "execution_count": null,
   "metadata": {
    "collapsed": true
   },
   "outputs": [],
   "source": [
    "pathDNA <- '/Users/Amssbaixiangqi/Desktop/Data/clonealign-processed-data/T_OV2295/cnv'\n",
    "pathRNA_TOV <- '/Users/Amssbaixiangqi/Desktop/Data/clonealign-processed-data/T_OV2295/10X/TOV2295/outs/filtered_gene_bc_matrices/hg19'\n",
    "pathRNA_OV <-'/Users/Amssbaixiangqi/Desktop/Data/clonealign-processed-data/T_OV2295/10X/OV2295n2/outs/filtered_gene_bc_matrices/hg19'\n",
    "\n",
    "### Read All CNV data\n",
    "OV_CNV <- read.csv(file.path(pathDNA, 'cnv_data.csv'))\n",
    "\n",
    "TOV_gene <- read.table(file.path(pathRNA_TOV, 'genes.tsv'))\n",
    "OV_gene <- read.table(file.path(pathRNA_OV, 'genes.tsv'))\n",
    "\n",
    "# Load single-cell data include 4918 cells with 32738 genes \n",
    "TOV_RNA <- InputRNA(pathRNA_TOV)\n",
    "# 1717 cells with 32738 genes \n",
    "OV_RNA <- InputRNA(pathRNA_OV)\n",
    "\n",
    "# Remove the repeat barcodes \n",
    "commonBarcodes <- intersect(colnames(OV_RNA), colnames(TOV_RNA))\n",
    "index <- matrix(0, 1, length(commonBarcodes))\n",
    "for (i in 1:length(commonBarcodes)){\n",
    "  index[i] <- which(colnames(TOV_RNA) == commonBarcodes[i])\n",
    "}\n",
    "colnames(TOV_RNA)[index] = paste0(commonBarcodes, 'T')\n",
    "###Combine these two datasets\n",
    "AllRNA <- cbind(TOV_RNA, OV_RNA)\n"
   ]
  },
  {
   "cell_type": "code",
   "execution_count": null,
   "metadata": {
    "collapsed": true
   },
   "outputs": [],
   "source": [
    "# Function for handling copy number data to defauu\\lt input \n",
    "ProcessOriginalData <- function(Data){\n",
    "  singlecellid <- Data$single_cell_id\n",
    "  Outputdata <- data.frame(\n",
    "    chr=Data$chr[which(singlecellid == singlecellid[1])],\n",
    "    start=Data$start[which(singlecellid == singlecellid[1])],\n",
    "    end=Data$end[which(singlecellid == singlecellid[1])]\n",
    "    )\n",
    "  Outputdata$width <- Outputdata$end - Outputdata$start\n",
    "  N <- length(which(singlecellid == singlecellid[1]))\n",
    "  for (i in 1: length(unique(Data$single_cell_id))){\n",
    "    Cell <- Data$copy_number[as.integer((i-1)*N + 1) : as.integer(i * N)]\n",
    "    Outputdata <- cbind(Outputdata,Cell)\n",
    "  }\n",
    "  #cell_number <- length(unique(Data$single_cell_id))\n",
    "  colnames(Outputdata)[5: dim(Outputdata)[2]] <- levels(unique(Data$single_cell_id)[1])\n",
    "  return(Outputdata)\n",
    "}"
   ]
  },
  {
   "cell_type": "code",
   "execution_count": null,
   "metadata": {
    "collapsed": true
   },
   "outputs": [],
   "source": [
    "CNVmatrix <- ProcessOriginalData(OV_CNV)\n",
    "RNAobject <- run_Seurat_RNA(AllRNA)\n",
    "sigmoid <- function(x){1/(1+ exp(-x))}\n",
    "RNAmatrix1 <- RNAobject@assays$RNA@scale.data[RNAobject@assays$RNA@meta.features$vst.variable, ]\n",
    "replaceindex <- which(RNAmatrix1 < 0 )\n",
    "RNAmatrix2 <- RNAmatrix1\n",
    "RNAmatrix2[replaceindex] <- sigmoid(RNAmatrix1)[replaceindex]"
   ]
  },
  {
   "cell_type": "markdown",
   "metadata": {},
   "source": [
    "Estimate the corespponding gene region and chromosome bins by reference genome 'hg19'."
   ]
  },
  {
   "cell_type": "code",
   "execution_count": null,
   "metadata": {
    "collapsed": true
   },
   "outputs": [],
   "source": [
    "InterVariable <- Estimate_Coupled_matrix(RNAmatrix2, CNVmatrix, reference_name = 'hg19')"
   ]
  },
  {
   "cell_type": "code",
   "execution_count": null,
   "metadata": {
    "collapsed": true
   },
   "outputs": [],
   "source": [
    "CNVmatrix <- InterVariable[[1]]\n",
    "RNAmatrix <- AllRNA[rownames(CNVmatrix), ]\n",
    "RNAscale <- RNAscale[rownames(CNVmatrix), ]\n",
    "CoupledMatrix <- InterVariable[[3]]\n",
    "\n",
    "Gene <- read.table(file.path(pathRNA_TOV, 'genes.tsv'))\n",
    "Genename <- ConvertGenenames(rownames(CNVmatrix), Gene, Logic = FALSE)\n",
    "rownames(CNVmatrix) <- Genename\n",
    "rownames(RNAmatrix) <- Genename\n",
    "rownames(RNAscale) <- Genename\n",
    "\n",
    "ResultsCCNMF <- run_CCNMF(ncluster = 2, CNVmatrix, RNAscale, CoupledMatrix, lambda1=1, lambda2=1, mu=1)\n",
    "S1 <- ResultsCCNMF[[5]]\n",
    "S2 <- ResultsCCNMF[[6]]\n",
    "\n",
    "RNADE <- DiffExp(RNAmatrix, S2)"
   ]
  },
  {
   "cell_type": "code",
   "execution_count": null,
   "metadata": {
    "collapsed": true
   },
   "outputs": [],
   "source": [
    "X <- CNVmatrix\n",
    "a <- median(CNVmatrix)\n",
    "b <- max(CNVmatrix)\n",
    "c <- min(CNVmatrix)\n",
    "X1 <- (CNVmatrix-a)/(b - a)\n",
    "X2 <- (CNVmatrix-a)/(a- c)\n",
    "\n",
    "X[which(CNVmatrix > a)] <- X1[which(CNVmatrix > a)] * 2\n",
    "X[which(CNVmatrix <= a)] <- X2[which(CNVmatrix <= a)] * 2\n",
    "\n",
    "PlotMainResult(X, RNAscale, ResultsCCNMF, RNADE)"
   ]
  },
  {
   "cell_type": "markdown",
   "metadata": {},
   "source": [
    "![](TOV_2clusters.pdf)"
   ]
  },
  {
   "cell_type": "code",
   "execution_count": null,
   "metadata": {
    "collapsed": true
   },
   "outputs": [],
   "source": []
  }
 ],
 "metadata": {
  "kernelspec": {
   "display_name": "R",
   "language": "R",
   "name": "ir"
  },
  "language_info": {
   "codemirror_mode": "r",
   "file_extension": ".r",
   "mimetype": "text/x-r-source",
   "name": "R",
   "pygments_lexer": "r",
   "version": "3.6.2"
  }
 },
 "nbformat": 4,
 "nbformat_minor": 2
}
