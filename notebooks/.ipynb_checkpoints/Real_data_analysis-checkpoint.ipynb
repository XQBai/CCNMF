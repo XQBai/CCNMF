{
 "cells": [
  {
   "cell_type": "markdown",
   "metadata": {},
   "source": [
    "# CCNMF analysis of real paired scRNA and scDNA data from a cell mixture"
   ]
  },
  {
   "cell_type": "markdown",
   "metadata": {},
   "source": [
    "### Download the [ovarian cancer cell lines datasets](https://zenodo.org/record/2363826#.XjkYohNKhE4) from [clonealign: statistical integration of independent single-cell RNA and DNA sequencing data from human cancers.](https://genomebiology.biomedcentral.com/articles/10.1186/s13059-019-1645-z) "
   ]
  },
  {
   "cell_type": "code",
   "execution_count": 2,
   "metadata": {},
   "outputs": [],
   "source": [
    "# load necessary packages \n",
    "library(NMF)\n",
    "library(dplyr)\n",
    "library(tidyr)\n",
    "\n",
    "library(Matrix)\n",
    "library(devtools)\n",
    "library(TxDb.Hsapiens.UCSC.hg19.knownGene)\n",
    "library(TxDb.Hsapiens.UCSC.hg38.knownGene)\n",
    "library(org.Hs.eg.db)\n",
    "\n",
    "library(pheatmap)\n",
    "library(ggplot2)\n",
    "library(Seurat)\n",
    "library(stringr)\n",
    "library(Rtsne)\n",
    "library(uwot)\n",
    "library(mclust)\n",
    "library(biomaRt)\n",
    "library(cowplot)\n",
    "library(ggplotify)\n",
    "library(RColorBrewer)\n",
    "library(minerva)\n",
    "\n",
    "library(CCNMF)"
   ]
  },
  {
   "cell_type": "code",
   "execution_count": 3,
   "metadata": {},
   "outputs": [],
   "source": [
    "# Input the single-cell RNA-seq (gene expression) data and single-cell DNA-seq (copy number variants) data.\n",
    "\n",
    "pathDNA <- '~/Desktop/CCNMF-master/Extra_code/clonealign-processed-data/T_OV2295/cnv'\n",
    "pathRNA_TOV <- '~/Desktop/CCNMF-master/Extra_code/clonealign-processed-data/T_OV2295/10X/TOV2295/outs/filtered_gene_bc_matrices/hg19'\n",
    "pathRNA_OV <-'~/Desktop/CCNMF-master/Extra_code/clonealign-processed-data/T_OV2295/10X/OV2295n2/outs/filtered_gene_bc_matrices/hg19'\n",
    "\n",
    "# Read All CNV data\n",
    "OV_CNV <- read.csv(file.path(pathDNA, 'cnv_data.csv'))\n",
    "\n",
    "# Read the genes of scRNA-seq data\n",
    "TOV_gene <- read.table(file.path(pathRNA_TOV, 'genes.tsv'))\n",
    "OV_gene <- read.table(file.path(pathRNA_OV, 'genes.tsv'))\n",
    "\n",
    "# Load single-cell TOV data includes 4918 cells with 32738 genes \n",
    "TOV_RNA <- InputRNA(pathRNA_TOV)\n",
    "\n",
    "# Load single-cell OV data includes 1717 cells with 32738 genes \n",
    "OV_RNA <- InputRNA(pathRNA_OV)\n",
    "\n",
    "# Find the common barcodes between OV and TOV scRNA datasets \n",
    "commonBarcodes <- intersect(colnames(OV_RNA), colnames(TOV_RNA))\n",
    "index <- matrix(0, 1, length(commonBarcodes))\n",
    "for (i in 1:length(commonBarcodes)){\n",
    "  index[i] <- which(colnames(TOV_RNA) == commonBarcodes[i])\n",
    "}\n",
    "\n",
    "# Change the barcodes's name in TOV RNA-seq data\n",
    "colnames(TOV_RNA)[index] = paste0(commonBarcodes, 'T')\n",
    "\n",
    "###Combine these two datasets as a RNA matrix\n",
    "AllRNA <- cbind(TOV_RNA, OV_RNA)\n"
   ]
  },
  {
   "cell_type": "code",
   "execution_count": 4,
   "metadata": {},
   "outputs": [],
   "source": [
    "# Function for handling copy number data to default input \n",
    "ProcessOriginalData <- function(Data){\n",
    "  singlecellid <- Data$single_cell_id\n",
    "  Outputdata <- data.frame(\n",
    "    chr=Data$chr[which(singlecellid == singlecellid[1])],\n",
    "    start=Data$start[which(singlecellid == singlecellid[1])],\n",
    "    end=Data$end[which(singlecellid == singlecellid[1])]\n",
    "    )\n",
    "  Outputdata$width <- Outputdata$end - Outputdata$start\n",
    "  N <- length(which(singlecellid == singlecellid[1]))\n",
    "  for (i in 1: length(unique(Data$single_cell_id))){\n",
    "    Cell <- Data$copy_number[as.integer((i-1)*N + 1) : as.integer(i * N)]\n",
    "    Outputdata <- cbind(Outputdata,Cell)\n",
    "  }\n",
    "  #cell_number <- length(unique(Data$single_cell_id))\n",
    "  colnames(Outputdata)[5: dim(Outputdata)[2]] <- levels(unique(Data$single_cell_id)[1])\n",
    "  return(Outputdata)\n",
    "}"
   ]
  },
  {
   "cell_type": "code",
   "execution_count": 5,
   "metadata": {},
   "outputs": [
    {
     "name": "stderr",
     "output_type": "stream",
     "text": [
      "Centering and scaling data matrix\n",
      "\n",
      "PC_ 1 \n",
      "Positive:  ENSG00000140988, ENSG00000167996, ENSG00000115457, ENSG00000143320, ENSG00000106211, ENSG00000160678, ENSG00000165215, ENSG00000135480, ENSG00000101443, ENSG00000137309 \n",
      "\t   ENSG00000125968, ENSG00000113946, ENSG00000167969, ENSG00000161798, ENSG00000198467, ENSG00000172216, ENSG00000100906, ENSG00000137962, ENSG00000114638, ENSG00000141401 \n",
      "\t   ENSG00000167755, ENSG00000188042, ENSG00000146038, ENSG00000184897, ENSG00000171223, ENSG00000168309, ENSG00000173917, ENSG00000103260, ENSG00000196154, ENSG00000135205 \n",
      "Negative:  ENSG00000165949, ENSG00000130303, ENSG00000173926, ENSG00000126709, ENSG00000071282, ENSG00000160932, ENSG00000143631, ENSG00000142676, ENSG00000008394, ENSG00000073803 \n",
      "\t   ENSG00000090273, ENSG00000179761, ENSG00000100028, ENSG00000148677, ENSG00000187608, ENSG00000181991, ENSG00000140612, ENSG00000169504, ENSG00000188313, ENSG00000075624 \n",
      "\t   ENSG00000169641, ENSG00000182899, ENSG00000185339, ENSG00000169612, ENSG00000099977, ENSG00000041357, ENSG00000115944, ENSG00000173436, ENSG00000115128, ENSG00000117632 \n",
      "PC_ 2 \n",
      "Positive:  ENSG00000117724, ENSG00000164104, ENSG00000137804, ENSG00000175063, ENSG00000148773, ENSG00000145386, ENSG00000088325, ENSG00000123975, ENSG00000024526, ENSG00000117399 \n",
      "\t   ENSG00000138182, ENSG00000113810, ENSG00000066279, ENSG00000131747, ENSG00000143228, ENSG00000087586, ENSG00000168078, ENSG00000072571, ENSG00000173207, ENSG00000164109 \n",
      "\t   ENSG00000142945, ENSG00000134057, ENSG00000128944, ENSG00000111665, ENSG00000138778, ENSG00000137807, ENSG00000198901, ENSG00000089685, ENSG00000166851, ENSG00000178999 \n",
      "Negative:  ENSG00000149273, ENSG00000182899, ENSG00000116251, ENSG00000112306, ENSG00000155792, ENSG00000111640, ENSG00000142676, ENSG00000170421, ENSG00000197903, ENSG00000168028 \n",
      "\t   ENSG00000117318, ENSG00000100297, ENSG00000245532, ENSG00000171345, ENSG00000109654, ENSG00000113558, ENSG00000115944, ENSG00000071282, ENSG00000152061, ENSG00000111907 \n",
      "\t   ENSG00000188010, ENSG00000076248, ENSG00000111716, ENSG00000196139, ENSG00000179761, ENSG00000196975, ENSG00000175305, ENSG00000138449, ENSG00000187134, ENSG00000185339 \n",
      "PC_ 3 \n",
      "Positive:  ENSG00000197989, ENSG00000099860, ENSG00000125347, ENSG00000162772, ENSG00000163660, ENSG00000155090, ENSG00000113240, ENSG00000232956, ENSG00000166532, ENSG00000111011 \n",
      "\t   ENSG00000087074, ENSG00000136244, ENSG00000023608, ENSG00000113140, ENSG00000168003, ENSG00000134186, ENSG00000111331, ENSG00000188529, ENSG00000157601, ENSG00000013441 \n",
      "\t   ENSG00000102804, ENSG00000169379, ENSG00000204264, ENSG00000131051, ENSG00000067082, ENSG00000115414, ENSG00000213626, ENSG00000197857, ENSG00000133106, ENSG00000205323 \n",
      "Negative:  ENSG00000164611, ENSG00000100526, ENSG00000118418, ENSG00000164032, ENSG00000149273, ENSG00000205542, ENSG00000123416, ENSG00000116251, ENSG00000134333, ENSG00000203760 \n",
      "\t   ENSG00000135451, ENSG00000089685, ENSG00000088986, ENSG00000198830, ENSG00000080824, ENSG00000148908, ENSG00000109255, ENSG00000112695, ENSG00000189043, ENSG00000112306 \n",
      "\t   ENSG00000143771, ENSG00000119705, ENSG00000182899, ENSG00000172115, ENSG00000111640, ENSG00000163041, ENSG00000100216, ENSG00000197459, ENSG00000068489, ENSG00000116288 \n",
      "PC_ 4 \n",
      "Positive:  ENSG00000166292, ENSG00000113140, ENSG00000258998, ENSG00000117318, ENSG00000180447, ENSG00000118137, ENSG00000120885, ENSG00000123095, ENSG00000164116, ENSG00000115414 \n",
      "\t   ENSG00000061918, ENSG00000107742, ENSG00000170421, ENSG00000137573, ENSG00000109861, ENSG00000256234, ENSG00000163453, ENSG00000150551, ENSG00000163331, ENSG00000164932 \n",
      "\t   ENSG00000203805, ENSG00000104368, ENSG00000109654, ENSG00000182985, ENSG00000114115, ENSG00000101335, ENSG00000259126, ENSG00000102804, ENSG00000162407, ENSG00000249599 \n",
      "Negative:  ENSG00000131981, ENSG00000184292, ENSG00000173156, ENSG00000227507, ENSG00000053747, ENSG00000117472, ENSG00000183696, ENSG00000213937, ENSG00000205542, ENSG00000181649 \n",
      "\t   ENSG00000101144, ENSG00000137309, ENSG00000196154, ENSG00000148908, ENSG00000103187, ENSG00000135480, ENSG00000162772, ENSG00000087074, ENSG00000138821, ENSG00000139725 \n",
      "\t   ENSG00000136999, ENSG00000165637, ENSG00000154764, ENSG00000175315, ENSG00000115963, ENSG00000130513, ENSG00000172965, ENSG00000155324, ENSG00000198355, ENSG00000138772 \n",
      "PC_ 5 \n",
      "Positive:  ENSG00000170540, ENSG00000135046, ENSG00000135451, ENSG00000100097, ENSG00000170421, ENSG00000164611, ENSG00000111057, ENSG00000134057, ENSG00000182718, ENSG00000197747 \n",
      "\t   ENSG00000171345, ENSG00000117399, ENSG00000157456, ENSG00000117650, ENSG00000180573, ENSG00000125148, ENSG00000100526, ENSG00000121957, ENSG00000165434, ENSG00000198959 \n",
      "\t   ENSG00000166851, ENSG00000163435, ENSG00000112984, ENSG00000136943, ENSG00000130066, ENSG00000158373, ENSG00000124766, ENSG00000141526, ENSG00000150551, ENSG00000109255 \n",
      "Negative:  ENSG00000197061, ENSG00000092853, ENSG00000156802, ENSG00000168496, ENSG00000189057, ENSG00000171848, ENSG00000166803, ENSG00000163918, ENSG00000065328, ENSG00000171320 \n",
      "\t   ENSG00000124575, ENSG00000168298, ENSG00000094804, ENSG00000112029, ENSG00000051180, ENSG00000112312, ENSG00000093009, ENSG00000184357, ENSG00000174371, ENSG00000136982 \n",
      "\t   ENSG00000166801, ENSG00000076248, ENSG00000137310, ENSG00000111247, ENSG00000077152, ENSG00000091651, ENSG00000228716, ENSG00000164687, ENSG00000151725, ENSG00000175305 \n",
      "\n",
      "Computing nearest neighbor graph\n",
      "\n",
      "Computing SNN\n",
      "\n"
     ]
    },
    {
     "name": "stdout",
     "output_type": "stream",
     "text": [
      "Modularity Optimizer version 1.3.0 by Ludo Waltman and Nees Jan van Eck\n",
      "\n",
      "Number of nodes: 6635\n",
      "Number of edges: 213261\n",
      "\n",
      "Running Louvain algorithm...\n",
      "Maximum modularity in 10 random starts: 0.9204\n",
      "Number of communities: 5\n",
      "Elapsed time: 0 seconds\n"
     ]
    }
   ],
   "source": [
    "# Preprocessing the scRNA-seq data by Seurat including normalization, scaling and selecting high variable genes.   \n",
    "RNAobject <- run_Seurat_RNA(AllRNA)\n",
    "\n",
    "## Convert copy number variants data as correct input format and match the same genes with the seleced high-variable genes in scRNA-seq data.\n",
    "CNVmatrix <- ProcessOriginalData(OV_CNV)\n",
    "\n",
    "#Then we use a sigmoid fucnction transform the negative elements in scaled RNA matrix to non-negative \n",
    "#since the CCNMF needs non-negative matrices as input.\n",
    "sigmoid <- function(x){1/(1+ exp(-x))}\n",
    "RNAmatrix1 <- RNAobject@assays$RNA@scale.data[RNAobject@assays$RNA@meta.features$vst.variable, ]\n",
    "replaceindex <- which(RNAmatrix1 < 0 )\n",
    "RNAmatrix2 <- RNAmatrix1\n",
    "RNAmatrix2[replaceindex] <- sigmoid(RNAmatrix1)[replaceindex]"
   ]
  },
  {
   "cell_type": "code",
   "execution_count": 6,
   "metadata": {},
   "outputs": [
    {
     "name": "stderr",
     "output_type": "stream",
     "text": [
      "Joining, by = \"ensembl_gene_id\"\n",
      "\n",
      "Warning message:\n",
      "“Column `ensembl_gene_id` has different attributes on LHS and RHS of join”\n"
     ]
    }
   ],
   "source": [
    "# Estimate the corespponding gene region and chromosome bins by reference genome 'hg19', meanwhile, construct a identify matrix as the coupling matrix.\n",
    "\n",
    "InterVariable <- Estimate_Coupled_matrix(RNAmatrix2, CNVmatrix, reference_name = 'hg19')"
   ]
  },
  {
   "cell_type": "code",
   "execution_count": 7,
   "metadata": {},
   "outputs": [],
   "source": [
    "#Convert the Ensembl Symbol genes to HUGO genes for processed DNA and RNA matrices \n",
    "CNVmatrix <- InterVariable[[1]]\n",
    "RNAmatrix <- AllRNA[rownames(CNVmatrix), ]\n",
    "RNAscale <- RNAmatrix2[rownames(CNVmatrix), ]\n",
    "CoupledMatrix <- InterVariable[[3]]\n",
    "\n",
    "Gene <- read.table(file.path(pathRNA_TOV, 'genes.tsv'))\n",
    "Genename <- ConvertGenenames(rownames(CNVmatrix), Gene, Logic = FALSE)\n",
    "rownames(CNVmatrix) <- Genename\n",
    "rownames(RNAmatrix) <- Genename\n",
    "rownames(RNAscale) <- Genename"
   ]
  },
  {
   "cell_type": "code",
   "execution_count": 8,
   "metadata": {},
   "outputs": [
    {
     "name": "stdout",
     "output_type": "stream",
     "text": [
      "[1] \"Initializing NMF for CNV matrirx...\"\n",
      "[1] \"Initializing NMF for scRNA matrirx...\"\n",
      "[1] \"Initializing the parameters lambda1, lambda2 and mu...\"\n",
      "[1] \"Start Coupled NMF\"\n",
      "[1] \"Iterating coupledNMF...\"\n",
      "[1] \"eq1 1940235\"\n",
      "[1] \"eq2 4681809\"\n",
      "[1] \"eq3 39635\"\n",
      "[1] \"eq4 107728\"\n",
      "[1] \"eq5 6622043\"\n",
      "[1] \"Run time:366.008seconds\"\n"
     ]
    }
   ],
   "source": [
    "## Run CCNMF for paired scDNA and scRNA datasets\n",
    "ResultsCCNMF <- run_CCNMF(ncluster = 2, CNVmatrix, RNAscale, CoupledMatrix, lambda1=1, lambda2=1, mu=1)\n",
    "S1 <- ResultsCCNMF[[5]]\n",
    "S2 <- ResultsCCNMF[[6]]"
   ]
  },
  {
   "cell_type": "code",
   "execution_count": 9,
   "metadata": {},
   "outputs": [],
   "source": [
    "## Find the differential genes between clusters based on scRNA data\n",
    "RNADE <- DiffExp(RNAmatrix, S2)"
   ]
  },
  {
   "cell_type": "code",
   "execution_count": null,
   "metadata": {},
   "outputs": [],
   "source": [
    "#Output the heatmap and tsne figures of CCNMF, the main figure's pdf can be saved in current path.\n",
    "PlotMainResult(DNAmatrix, RNAscale, ResultsCCNMF, RNADE)"
   ]
  },
  {
   "cell_type": "markdown",
   "metadata": {},
   "source": [
    "![](realdata_figure.png)"
   ]
  }
 ],
 "metadata": {
  "kernelspec": {
   "display_name": "R",
   "language": "R",
   "name": "ir"
  },
  "language_info": {
   "codemirror_mode": "r",
   "file_extension": ".r",
   "mimetype": "text/x-r-source",
   "name": "R",
   "pygments_lexer": "r",
   "version": "3.6.2"
  }
 },
 "nbformat": 4,
 "nbformat_minor": 2
}
